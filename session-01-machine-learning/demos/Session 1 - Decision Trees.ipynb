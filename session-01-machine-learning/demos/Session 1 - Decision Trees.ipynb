{
 "cells": [
  {
   "cell_type": "markdown",
   "id": "9b928cc0",
   "metadata": {},
   "source": [
    "# Supervised Learning Algorithms: Decision Trees for Classification and Regression Tasks (CART)"
   ]
  },
  {
   "cell_type": "markdown",
   "id": "40fd1b9f",
   "metadata": {},
   "source": [
    "<b>Decision trees</b> (also called Classification And Regression Trees \"CART\") are a type of machine learning algorithm that makes decisions by splitting data into subsets based on certain features. They are used for both classification (assigning a label to an item) and regression (predicting a numerical value)."
   ]
  },
  {
   "cell_type": "markdown",
   "id": "02a7a9c3",
   "metadata": {},
   "source": [
    "## Decision Trees for Classification Tasks"
   ]
  },
  {
   "cell_type": "markdown",
   "id": "e58fceef",
   "metadata": {},
   "source": [
    "## Demo 1: To Play or Not To Play"
   ]
  },
  {
   "cell_type": "code",
   "execution_count": 95,
   "id": "602d5232",
   "metadata": {},
   "outputs": [],
   "source": [
    "import pandas as pd\n",
    "import numpy as np\n",
    "from sklearn.tree import DecisionTreeClassifier"
   ]
  },
  {
   "cell_type": "code",
   "execution_count": 56,
   "id": "436b1418",
   "metadata": {},
   "outputs": [],
   "source": [
    "# Generating a basic dataset\n",
    "dataset = [\n",
    "        ['sunny','hot','high',0,0],\n",
    "        ['sunny','Hot','High',1,0],\n",
    "        ['Overcast','Hot','High',0,1],\n",
    "        ['Rainy','mild','High',0,1],\n",
    "        ['Rainy','Cool','Normal',0,1],\n",
    "        ['Rainy','Cool','Normal',1,0],\n",
    "        ['Overcast','Cool','Normal',1,1],\n",
    "        ['Sunny','mild','High',0,0],\n",
    "        ['Sunny','cool','normal',0,1],\n",
    "        ['rainy','mild','normal',0,1],\n",
    "        ['Sunny','mild','normal',1,1],\n",
    "        ['overcast','mild','High',1,1],\n",
    "        ['overcast','hot','normal',0,1],\n",
    "        ['rainy','mild','high',1,0],\n",
    "]\n",
    "df = pd.DataFrame(dataset, columns = ['Outlook', 'Temp', 'Humidity', 'Windy', 'Play'])\n",
    "df.Outlook = df.Outlook.str.lower()\n",
    "df.Temp = df.Temp.str.lower()\n",
    "df.Humidity = df.Humidity.str.lower()"
   ]
  },
  {
   "cell_type": "code",
   "execution_count": 57,
   "id": "f48458bc",
   "metadata": {},
   "outputs": [
    {
     "data": {
      "text/html": [
       "<div>\n",
       "<style scoped>\n",
       "    .dataframe tbody tr th:only-of-type {\n",
       "        vertical-align: middle;\n",
       "    }\n",
       "\n",
       "    .dataframe tbody tr th {\n",
       "        vertical-align: top;\n",
       "    }\n",
       "\n",
       "    .dataframe thead th {\n",
       "        text-align: right;\n",
       "    }\n",
       "</style>\n",
       "<table border=\"1\" class=\"dataframe\">\n",
       "  <thead>\n",
       "    <tr style=\"text-align: right;\">\n",
       "      <th></th>\n",
       "      <th>Outlook</th>\n",
       "      <th>Temp</th>\n",
       "      <th>Humidity</th>\n",
       "      <th>Windy</th>\n",
       "      <th>Play</th>\n",
       "    </tr>\n",
       "  </thead>\n",
       "  <tbody>\n",
       "    <tr>\n",
       "      <th>0</th>\n",
       "      <td>sunny</td>\n",
       "      <td>hot</td>\n",
       "      <td>high</td>\n",
       "      <td>0</td>\n",
       "      <td>0</td>\n",
       "    </tr>\n",
       "    <tr>\n",
       "      <th>1</th>\n",
       "      <td>sunny</td>\n",
       "      <td>hot</td>\n",
       "      <td>high</td>\n",
       "      <td>1</td>\n",
       "      <td>0</td>\n",
       "    </tr>\n",
       "    <tr>\n",
       "      <th>2</th>\n",
       "      <td>overcast</td>\n",
       "      <td>hot</td>\n",
       "      <td>high</td>\n",
       "      <td>0</td>\n",
       "      <td>1</td>\n",
       "    </tr>\n",
       "    <tr>\n",
       "      <th>3</th>\n",
       "      <td>rainy</td>\n",
       "      <td>mild</td>\n",
       "      <td>high</td>\n",
       "      <td>0</td>\n",
       "      <td>1</td>\n",
       "    </tr>\n",
       "    <tr>\n",
       "      <th>4</th>\n",
       "      <td>rainy</td>\n",
       "      <td>cool</td>\n",
       "      <td>normal</td>\n",
       "      <td>0</td>\n",
       "      <td>1</td>\n",
       "    </tr>\n",
       "    <tr>\n",
       "      <th>5</th>\n",
       "      <td>rainy</td>\n",
       "      <td>cool</td>\n",
       "      <td>normal</td>\n",
       "      <td>1</td>\n",
       "      <td>0</td>\n",
       "    </tr>\n",
       "    <tr>\n",
       "      <th>6</th>\n",
       "      <td>overcast</td>\n",
       "      <td>cool</td>\n",
       "      <td>normal</td>\n",
       "      <td>1</td>\n",
       "      <td>1</td>\n",
       "    </tr>\n",
       "    <tr>\n",
       "      <th>7</th>\n",
       "      <td>sunny</td>\n",
       "      <td>mild</td>\n",
       "      <td>high</td>\n",
       "      <td>0</td>\n",
       "      <td>0</td>\n",
       "    </tr>\n",
       "    <tr>\n",
       "      <th>8</th>\n",
       "      <td>sunny</td>\n",
       "      <td>cool</td>\n",
       "      <td>normal</td>\n",
       "      <td>0</td>\n",
       "      <td>1</td>\n",
       "    </tr>\n",
       "    <tr>\n",
       "      <th>9</th>\n",
       "      <td>rainy</td>\n",
       "      <td>mild</td>\n",
       "      <td>normal</td>\n",
       "      <td>0</td>\n",
       "      <td>1</td>\n",
       "    </tr>\n",
       "    <tr>\n",
       "      <th>10</th>\n",
       "      <td>sunny</td>\n",
       "      <td>mild</td>\n",
       "      <td>normal</td>\n",
       "      <td>1</td>\n",
       "      <td>1</td>\n",
       "    </tr>\n",
       "    <tr>\n",
       "      <th>11</th>\n",
       "      <td>overcast</td>\n",
       "      <td>mild</td>\n",
       "      <td>high</td>\n",
       "      <td>1</td>\n",
       "      <td>1</td>\n",
       "    </tr>\n",
       "    <tr>\n",
       "      <th>12</th>\n",
       "      <td>overcast</td>\n",
       "      <td>hot</td>\n",
       "      <td>normal</td>\n",
       "      <td>0</td>\n",
       "      <td>1</td>\n",
       "    </tr>\n",
       "    <tr>\n",
       "      <th>13</th>\n",
       "      <td>rainy</td>\n",
       "      <td>mild</td>\n",
       "      <td>high</td>\n",
       "      <td>1</td>\n",
       "      <td>0</td>\n",
       "    </tr>\n",
       "  </tbody>\n",
       "</table>\n",
       "</div>"
      ],
      "text/plain": [
       "     Outlook  Temp Humidity  Windy  Play\n",
       "0      sunny   hot     high      0     0\n",
       "1      sunny   hot     high      1     0\n",
       "2   overcast   hot     high      0     1\n",
       "3      rainy  mild     high      0     1\n",
       "4      rainy  cool   normal      0     1\n",
       "5      rainy  cool   normal      1     0\n",
       "6   overcast  cool   normal      1     1\n",
       "7      sunny  mild     high      0     0\n",
       "8      sunny  cool   normal      0     1\n",
       "9      rainy  mild   normal      0     1\n",
       "10     sunny  mild   normal      1     1\n",
       "11  overcast  mild     high      1     1\n",
       "12  overcast   hot   normal      0     1\n",
       "13     rainy  mild     high      1     0"
      ]
     },
     "execution_count": 57,
     "metadata": {},
     "output_type": "execute_result"
    }
   ],
   "source": [
    "df"
   ]
  },
  {
   "cell_type": "code",
   "execution_count": 59,
   "id": "cf7cfa9f",
   "metadata": {},
   "outputs": [
    {
     "data": {
      "text/html": [
       "<div>\n",
       "<style scoped>\n",
       "    .dataframe tbody tr th:only-of-type {\n",
       "        vertical-align: middle;\n",
       "    }\n",
       "\n",
       "    .dataframe tbody tr th {\n",
       "        vertical-align: top;\n",
       "    }\n",
       "\n",
       "    .dataframe thead th {\n",
       "        text-align: right;\n",
       "    }\n",
       "</style>\n",
       "<table border=\"1\" class=\"dataframe\">\n",
       "  <thead>\n",
       "    <tr style=\"text-align: right;\">\n",
       "      <th></th>\n",
       "      <th>Outlook</th>\n",
       "      <th>Play</th>\n",
       "    </tr>\n",
       "  </thead>\n",
       "  <tbody>\n",
       "    <tr>\n",
       "      <th>0</th>\n",
       "      <td>sunny</td>\n",
       "      <td>0</td>\n",
       "    </tr>\n",
       "    <tr>\n",
       "      <th>1</th>\n",
       "      <td>sunny</td>\n",
       "      <td>0</td>\n",
       "    </tr>\n",
       "    <tr>\n",
       "      <th>7</th>\n",
       "      <td>sunny</td>\n",
       "      <td>0</td>\n",
       "    </tr>\n",
       "    <tr>\n",
       "      <th>8</th>\n",
       "      <td>sunny</td>\n",
       "      <td>1</td>\n",
       "    </tr>\n",
       "    <tr>\n",
       "      <th>10</th>\n",
       "      <td>sunny</td>\n",
       "      <td>1</td>\n",
       "    </tr>\n",
       "  </tbody>\n",
       "</table>\n",
       "</div>"
      ],
      "text/plain": [
       "   Outlook  Play\n",
       "0    sunny     0\n",
       "1    sunny     0\n",
       "7    sunny     0\n",
       "8    sunny     1\n",
       "10   sunny     1"
      ]
     },
     "execution_count": 59,
     "metadata": {},
     "output_type": "execute_result"
    }
   ],
   "source": [
    "## Getting only the feature column \"outlook\" and the output column \"play\", where outlook == 'sunny'\n",
    "df[df['Outlook'] == \"sunny\"][['Outlook','Play']]"
   ]
  },
  {
   "cell_type": "markdown",
   "id": "6a1e6a8c",
   "metadata": {},
   "source": [
    "<b>Splitting Criteria:</b> The model chooses the best features to split the data based on some criteria. For classification tasks, e.g., <b>Gini Impurity, Information Gain, Entropy, Gini Gain</b>"
   ]
  },
  {
   "cell_type": "markdown",
   "id": "a6ad3ba0",
   "metadata": {},
   "source": [
    "<b>Gini Impurity:</b> Gini impurity is a measure of how mixed the classes are in a given dataset or subset of data.\n",
    "<ul>\n",
    "    <li>It ranges from 0 to 1, where 0 indicates that a node contains only samples of a single class, and 1 indicates that the samples are evenly distributed among the classes.</li>\n",
    "    <li>The decision tree algorithm aims to minimize the Gini impurity when making splits.</li>\n",
    "</ul>"
   ]
  },
  {
   "cell_type": "code",
   "execution_count": 60,
   "id": "bcb3d62e",
   "metadata": {},
   "outputs": [],
   "source": [
    "## Gini Impurity Formula\n",
    "def GiniImpurity(data_f):\n",
    "    unique_classes, class_counts = np.unique(data_f, return_counts=True)\n",
    "    probabilities = class_counts / len(data_f)\n",
    "    \n",
    "    return 1 - np.sum(probabilities ** 2)"
   ]
  },
  {
   "cell_type": "code",
   "execution_count": 61,
   "id": "6016653a",
   "metadata": {},
   "outputs": [],
   "source": [
    "## Entropy Formula\n",
    "def Entropy(data_f):\n",
    "    unique_classes, class_counts = np.unique(data_f, return_counts=True)\n",
    "    probabilities = class_counts / len(data_f)\n",
    "    \n",
    "    return - np.sum(probabilities * np.log2(probabilities))"
   ]
  },
  {
   "cell_type": "code",
   "execution_count": 63,
   "id": "25554bcf",
   "metadata": {},
   "outputs": [],
   "source": [
    "## Todo Task\n",
    "def InformationGain(data_f):\n",
    "    pass\n",
    "    # Your answer goes here"
   ]
  },
  {
   "cell_type": "code",
   "execution_count": 64,
   "id": "36560631",
   "metadata": {},
   "outputs": [],
   "source": [
    "## Todo Task\n",
    "def GiniGain(data_f):\n",
    "    pass\n",
    "    # Your answer goes here"
   ]
  },
  {
   "cell_type": "code",
   "execution_count": 52,
   "id": "23734fe5",
   "metadata": {},
   "outputs": [
    {
     "name": "stdout",
     "output_type": "stream",
     "text": [
      "Gini Impurity:  0.4591836734693877\n",
      "Entropy:  0.9402859586706311\n"
     ]
    }
   ],
   "source": [
    "## Gini Impurity for The main dataset\n",
    "print(\"Gini Impurity: \",GiniImpurity(df['Play']))\n",
    "## Entropy for The main dataset\n",
    "print(\"Entropy: \",Entropy(df['Play']))"
   ]
  },
  {
   "cell_type": "code",
   "execution_count": 68,
   "id": "6f8e913f",
   "metadata": {},
   "outputs": [
    {
     "name": "stdout",
     "output_type": "stream",
     "text": [
      "Gini Impurity (Outlook == Sunny):  0.48\n",
      "Entropy (Outlook == Sunny):  0.9709505944546686\n"
     ]
    }
   ],
   "source": [
    "## Gini Impurity and Entropy for the column \"Outlook == sunny\"\n",
    "print(\"Gini Impurity (Outlook == Sunny): \",GiniImpurity(df[df['Outlook'] == \"sunny\"][['Play']]))\n",
    "print(\"Entropy (Outlook == Sunny): \",Entropy(df[df['Outlook'] == \"sunny\"][['Play']]))"
   ]
  },
  {
   "cell_type": "code",
   "execution_count": 76,
   "id": "32670adb",
   "metadata": {},
   "outputs": [
    {
     "name": "stdout",
     "output_type": "stream",
     "text": [
      "Gini Impurity (Outlook == Sunny):  0.48\n",
      "Gini Impurity (Outlook == Overcast):  0.0\n",
      "Gini Impurity (Outlook == Rainy):  0.48\n"
     ]
    }
   ],
   "source": [
    "## Let's compute the Gini Impurity for the column \"Outlook\"\n",
    "## Total Gini Impurity = weighted average of Gini Impurities for the leaves\n",
    "\n",
    "gini_impurity_outlook_sunny = GiniImpurity(df.loc[(df.Outlook == \"sunny\"), \"Play\"])\n",
    "gini_impurity_outlook_overcast = GiniImpurity(df.loc[(df.Outlook == \"overcast\"), \"Play\"])\n",
    "gini_impurity_outlook_rainy = GiniImpurity(df.loc[(df.Outlook == \"rainy\"), \"Play\"])\n",
    "\n",
    "\n",
    "print(\"Gini Impurity (Outlook == Sunny): \",gini_impurity_outlook_sunny)\n",
    "print(\"Gini Impurity (Outlook == Overcast): \",gini_impurity_outlook_overcast)\n",
    "print(\"Gini Impurity (Outlook == Rainy): \",gini_impurity_outlook_rainy)"
   ]
  },
  {
   "cell_type": "code",
   "execution_count": 84,
   "id": "9ba19f2f",
   "metadata": {},
   "outputs": [
    {
     "data": {
      "text/plain": [
       "Outlook \n",
       "rainy       5\n",
       "sunny       5\n",
       "overcast    4\n",
       "dtype: int64"
      ]
     },
     "execution_count": 84,
     "metadata": {},
     "output_type": "execute_result"
    }
   ],
   "source": [
    "df[[\"Outlook\"]].value_counts()"
   ]
  },
  {
   "cell_type": "code",
   "execution_count": 85,
   "id": "cacc6e57",
   "metadata": {},
   "outputs": [],
   "source": [
    "## Total Gini Impurity = weighted average of Gini Impurities for the leaves\n",
    "gini_impurity_outlook = (5/14) * gini_impurity_outlook_sunny + (4/14) * gini_impurity_outlook_overcast + (5/14) * gini_impurity_outlook_rainy"
   ]
  },
  {
   "cell_type": "code",
   "execution_count": 86,
   "id": "ce40cec5",
   "metadata": {},
   "outputs": [
    {
     "name": "stdout",
     "output_type": "stream",
     "text": [
      "Total Gini Impurity of OUTLOOK:  0.34285714285714286\n"
     ]
    }
   ],
   "source": [
    "print(\"Total Gini Impurity of OUTLOOK: \", gini_impurity_outlook)"
   ]
  },
  {
   "cell_type": "code",
   "execution_count": 87,
   "id": "7924ea8f",
   "metadata": {},
   "outputs": [],
   "source": [
    "## Computing Gini Impurity for the remainig features [Temp. Humidity, Windy]\n",
    "## Your code goes here!"
   ]
  },
  {
   "cell_type": "code",
   "execution_count": null,
   "id": "8e5c6655",
   "metadata": {},
   "outputs": [],
   "source": []
  },
  {
   "cell_type": "markdown",
   "id": "2826948b",
   "metadata": {},
   "source": [
    "### What if there is a numeric/continuous variables in the dataset?"
   ]
  },
  {
   "cell_type": "code",
   "execution_count": 91,
   "id": "cc804451",
   "metadata": {},
   "outputs": [
    {
     "data": {
      "text/html": [
       "<div>\n",
       "<style scoped>\n",
       "    .dataframe tbody tr th:only-of-type {\n",
       "        vertical-align: middle;\n",
       "    }\n",
       "\n",
       "    .dataframe tbody tr th {\n",
       "        vertical-align: top;\n",
       "    }\n",
       "\n",
       "    .dataframe thead th {\n",
       "        text-align: right;\n",
       "    }\n",
       "</style>\n",
       "<table border=\"1\" class=\"dataframe\">\n",
       "  <thead>\n",
       "    <tr style=\"text-align: right;\">\n",
       "      <th></th>\n",
       "      <th>Temp</th>\n",
       "    </tr>\n",
       "  </thead>\n",
       "  <tbody>\n",
       "    <tr>\n",
       "      <th>0</th>\n",
       "      <td>hot</td>\n",
       "    </tr>\n",
       "    <tr>\n",
       "      <th>1</th>\n",
       "      <td>hot</td>\n",
       "    </tr>\n",
       "    <tr>\n",
       "      <th>2</th>\n",
       "      <td>hot</td>\n",
       "    </tr>\n",
       "    <tr>\n",
       "      <th>3</th>\n",
       "      <td>mild</td>\n",
       "    </tr>\n",
       "    <tr>\n",
       "      <th>4</th>\n",
       "      <td>cool</td>\n",
       "    </tr>\n",
       "    <tr>\n",
       "      <th>5</th>\n",
       "      <td>cool</td>\n",
       "    </tr>\n",
       "    <tr>\n",
       "      <th>6</th>\n",
       "      <td>cool</td>\n",
       "    </tr>\n",
       "    <tr>\n",
       "      <th>7</th>\n",
       "      <td>mild</td>\n",
       "    </tr>\n",
       "    <tr>\n",
       "      <th>8</th>\n",
       "      <td>cool</td>\n",
       "    </tr>\n",
       "    <tr>\n",
       "      <th>9</th>\n",
       "      <td>mild</td>\n",
       "    </tr>\n",
       "    <tr>\n",
       "      <th>10</th>\n",
       "      <td>mild</td>\n",
       "    </tr>\n",
       "    <tr>\n",
       "      <th>11</th>\n",
       "      <td>mild</td>\n",
       "    </tr>\n",
       "    <tr>\n",
       "      <th>12</th>\n",
       "      <td>hot</td>\n",
       "    </tr>\n",
       "    <tr>\n",
       "      <th>13</th>\n",
       "      <td>mild</td>\n",
       "    </tr>\n",
       "  </tbody>\n",
       "</table>\n",
       "</div>"
      ],
      "text/plain": [
       "    Temp\n",
       "0    hot\n",
       "1    hot\n",
       "2    hot\n",
       "3   mild\n",
       "4   cool\n",
       "5   cool\n",
       "6   cool\n",
       "7   mild\n",
       "8   cool\n",
       "9   mild\n",
       "10  mild\n",
       "11  mild\n",
       "12   hot\n",
       "13  mild"
      ]
     },
     "execution_count": 91,
     "metadata": {},
     "output_type": "execute_result"
    }
   ],
   "source": [
    "## Let's change the temp column to a numerical column\n",
    "df[['Temp']]"
   ]
  },
  {
   "cell_type": "code",
   "execution_count": 93,
   "id": "ebd4a49f",
   "metadata": {},
   "outputs": [],
   "source": [
    "## Assiging numerical/continuous values to the Temp column\n",
    "df['Temp'] = [25.6, 27, 29.4, 18, 10.22, 9.2, 8, 15, 8, 14, 14, 18, 31, 13.8]"
   ]
  },
  {
   "cell_type": "code",
   "execution_count": 94,
   "id": "8990ca0e",
   "metadata": {},
   "outputs": [
    {
     "data": {
      "text/html": [
       "<div>\n",
       "<style scoped>\n",
       "    .dataframe tbody tr th:only-of-type {\n",
       "        vertical-align: middle;\n",
       "    }\n",
       "\n",
       "    .dataframe tbody tr th {\n",
       "        vertical-align: top;\n",
       "    }\n",
       "\n",
       "    .dataframe thead th {\n",
       "        text-align: right;\n",
       "    }\n",
       "</style>\n",
       "<table border=\"1\" class=\"dataframe\">\n",
       "  <thead>\n",
       "    <tr style=\"text-align: right;\">\n",
       "      <th></th>\n",
       "      <th>Outlook</th>\n",
       "      <th>Temp</th>\n",
       "      <th>Humidity</th>\n",
       "      <th>Windy</th>\n",
       "      <th>Play</th>\n",
       "    </tr>\n",
       "  </thead>\n",
       "  <tbody>\n",
       "    <tr>\n",
       "      <th>0</th>\n",
       "      <td>sunny</td>\n",
       "      <td>25.60</td>\n",
       "      <td>high</td>\n",
       "      <td>0</td>\n",
       "      <td>0</td>\n",
       "    </tr>\n",
       "    <tr>\n",
       "      <th>1</th>\n",
       "      <td>sunny</td>\n",
       "      <td>27.00</td>\n",
       "      <td>high</td>\n",
       "      <td>1</td>\n",
       "      <td>0</td>\n",
       "    </tr>\n",
       "    <tr>\n",
       "      <th>2</th>\n",
       "      <td>overcast</td>\n",
       "      <td>29.40</td>\n",
       "      <td>high</td>\n",
       "      <td>0</td>\n",
       "      <td>1</td>\n",
       "    </tr>\n",
       "    <tr>\n",
       "      <th>3</th>\n",
       "      <td>rainy</td>\n",
       "      <td>18.00</td>\n",
       "      <td>high</td>\n",
       "      <td>0</td>\n",
       "      <td>1</td>\n",
       "    </tr>\n",
       "    <tr>\n",
       "      <th>4</th>\n",
       "      <td>rainy</td>\n",
       "      <td>10.22</td>\n",
       "      <td>normal</td>\n",
       "      <td>0</td>\n",
       "      <td>1</td>\n",
       "    </tr>\n",
       "    <tr>\n",
       "      <th>5</th>\n",
       "      <td>rainy</td>\n",
       "      <td>9.20</td>\n",
       "      <td>normal</td>\n",
       "      <td>1</td>\n",
       "      <td>0</td>\n",
       "    </tr>\n",
       "    <tr>\n",
       "      <th>6</th>\n",
       "      <td>overcast</td>\n",
       "      <td>8.00</td>\n",
       "      <td>normal</td>\n",
       "      <td>1</td>\n",
       "      <td>1</td>\n",
       "    </tr>\n",
       "    <tr>\n",
       "      <th>7</th>\n",
       "      <td>sunny</td>\n",
       "      <td>15.00</td>\n",
       "      <td>high</td>\n",
       "      <td>0</td>\n",
       "      <td>0</td>\n",
       "    </tr>\n",
       "    <tr>\n",
       "      <th>8</th>\n",
       "      <td>sunny</td>\n",
       "      <td>8.00</td>\n",
       "      <td>normal</td>\n",
       "      <td>0</td>\n",
       "      <td>1</td>\n",
       "    </tr>\n",
       "    <tr>\n",
       "      <th>9</th>\n",
       "      <td>rainy</td>\n",
       "      <td>14.00</td>\n",
       "      <td>normal</td>\n",
       "      <td>0</td>\n",
       "      <td>1</td>\n",
       "    </tr>\n",
       "    <tr>\n",
       "      <th>10</th>\n",
       "      <td>sunny</td>\n",
       "      <td>14.00</td>\n",
       "      <td>normal</td>\n",
       "      <td>1</td>\n",
       "      <td>1</td>\n",
       "    </tr>\n",
       "    <tr>\n",
       "      <th>11</th>\n",
       "      <td>overcast</td>\n",
       "      <td>18.00</td>\n",
       "      <td>high</td>\n",
       "      <td>1</td>\n",
       "      <td>1</td>\n",
       "    </tr>\n",
       "    <tr>\n",
       "      <th>12</th>\n",
       "      <td>overcast</td>\n",
       "      <td>31.00</td>\n",
       "      <td>normal</td>\n",
       "      <td>0</td>\n",
       "      <td>1</td>\n",
       "    </tr>\n",
       "    <tr>\n",
       "      <th>13</th>\n",
       "      <td>rainy</td>\n",
       "      <td>13.80</td>\n",
       "      <td>high</td>\n",
       "      <td>1</td>\n",
       "      <td>0</td>\n",
       "    </tr>\n",
       "  </tbody>\n",
       "</table>\n",
       "</div>"
      ],
      "text/plain": [
       "     Outlook   Temp Humidity  Windy  Play\n",
       "0      sunny  25.60     high      0     0\n",
       "1      sunny  27.00     high      1     0\n",
       "2   overcast  29.40     high      0     1\n",
       "3      rainy  18.00     high      0     1\n",
       "4      rainy  10.22   normal      0     1\n",
       "5      rainy   9.20   normal      1     0\n",
       "6   overcast   8.00   normal      1     1\n",
       "7      sunny  15.00     high      0     0\n",
       "8      sunny   8.00   normal      0     1\n",
       "9      rainy  14.00   normal      0     1\n",
       "10     sunny  14.00   normal      1     1\n",
       "11  overcast  18.00     high      1     1\n",
       "12  overcast  31.00   normal      0     1\n",
       "13     rainy  13.80     high      1     0"
      ]
     },
     "execution_count": 94,
     "metadata": {},
     "output_type": "execute_result"
    }
   ],
   "source": [
    "df"
   ]
  },
  {
   "cell_type": "markdown",
   "id": "85fc877b",
   "metadata": {},
   "source": [
    "<b>Dealing with numerical variables:</b> As you may notices before, dealing with categorical variables seem to be easy and understandable. But, how can we deal with numerical/continuous variables?\n",
    "<ul>\n",
    "    <li><b>First step:</b> We sort the rows by numerical values from the lowest to the highest</li>\n",
    "    <li><b>Second step:</b> We calculate the average for all adjecent rows</li>\n",
    "    <li><b>Third step:</b>  We compute the Gini Impurity for each average value of the numerical column</li>\n",
    "</ul>"
   ]
  },
  {
   "cell_type": "code",
   "execution_count": null,
   "id": "0abbed32",
   "metadata": {},
   "outputs": [],
   "source": []
  }
 ],
 "metadata": {
  "kernelspec": {
   "display_name": "Python 3 (ipykernel)",
   "language": "python",
   "name": "python3"
  },
  "language_info": {
   "codemirror_mode": {
    "name": "ipython",
    "version": 3
   },
   "file_extension": ".py",
   "mimetype": "text/x-python",
   "name": "python",
   "nbconvert_exporter": "python",
   "pygments_lexer": "ipython3",
   "version": "3.9.13"
  }
 },
 "nbformat": 4,
 "nbformat_minor": 5
}
