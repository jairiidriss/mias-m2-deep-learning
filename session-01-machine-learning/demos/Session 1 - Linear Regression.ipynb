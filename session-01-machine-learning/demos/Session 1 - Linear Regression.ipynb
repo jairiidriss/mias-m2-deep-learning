{
 "cells": [
  {
   "cell_type": "markdown",
   "id": "edaa73da",
   "metadata": {},
   "source": [
    "# Supervised Learning Algorithms: Simple and Multiple Linear Regression"
   ]
  },
  {
   "cell_type": "code",
   "execution_count": 1,
   "id": "0b1af08d",
   "metadata": {},
   "outputs": [],
   "source": [
    "import numpy as np\n",
    "import pandas as pd\n",
    "import matplotlib.pyplot as plt\n",
    "from sklearn.linear_model import LinearRegression"
   ]
  },
  {
   "cell_type": "markdown",
   "id": "a6ab7dc8",
   "metadata": {},
   "source": [
    "## Estimating Parameters using Ordinary Least Squares and Normal Equations"
   ]
  },
  {
   "cell_type": "markdown",
   "id": "dcff1543",
   "metadata": {},
   "source": [
    "### Simple Linear Regression"
   ]
  },
  {
   "cell_type": "code",
   "execution_count": 2,
   "id": "e18c15cc",
   "metadata": {},
   "outputs": [],
   "source": [
    "x = [2, 2.4, 1.5, 3.5, 3.5, 3.5, 3.5, 3.7, 3.7]\n",
    "y = [196, 221, 136, 255, 244, 230, 232, 255, 267]\n",
    "d = {'EngineSize':x, 'CO2emissions':y}\n",
    "df = pd.DataFrame(data = d)"
   ]
  },
  {
   "cell_type": "code",
   "execution_count": 3,
   "id": "f042a70a",
   "metadata": {},
   "outputs": [
    {
     "data": {
      "text/html": [
       "<div>\n",
       "<style scoped>\n",
       "    .dataframe tbody tr th:only-of-type {\n",
       "        vertical-align: middle;\n",
       "    }\n",
       "\n",
       "    .dataframe tbody tr th {\n",
       "        vertical-align: top;\n",
       "    }\n",
       "\n",
       "    .dataframe thead th {\n",
       "        text-align: right;\n",
       "    }\n",
       "</style>\n",
       "<table border=\"1\" class=\"dataframe\">\n",
       "  <thead>\n",
       "    <tr style=\"text-align: right;\">\n",
       "      <th></th>\n",
       "      <th>EngineSize</th>\n",
       "      <th>CO2emissions</th>\n",
       "    </tr>\n",
       "  </thead>\n",
       "  <tbody>\n",
       "    <tr>\n",
       "      <th>0</th>\n",
       "      <td>2.0</td>\n",
       "      <td>196</td>\n",
       "    </tr>\n",
       "    <tr>\n",
       "      <th>1</th>\n",
       "      <td>2.4</td>\n",
       "      <td>221</td>\n",
       "    </tr>\n",
       "    <tr>\n",
       "      <th>2</th>\n",
       "      <td>1.5</td>\n",
       "      <td>136</td>\n",
       "    </tr>\n",
       "    <tr>\n",
       "      <th>3</th>\n",
       "      <td>3.5</td>\n",
       "      <td>255</td>\n",
       "    </tr>\n",
       "    <tr>\n",
       "      <th>4</th>\n",
       "      <td>3.5</td>\n",
       "      <td>244</td>\n",
       "    </tr>\n",
       "    <tr>\n",
       "      <th>5</th>\n",
       "      <td>3.5</td>\n",
       "      <td>230</td>\n",
       "    </tr>\n",
       "    <tr>\n",
       "      <th>6</th>\n",
       "      <td>3.5</td>\n",
       "      <td>232</td>\n",
       "    </tr>\n",
       "    <tr>\n",
       "      <th>7</th>\n",
       "      <td>3.7</td>\n",
       "      <td>255</td>\n",
       "    </tr>\n",
       "    <tr>\n",
       "      <th>8</th>\n",
       "      <td>3.7</td>\n",
       "      <td>267</td>\n",
       "    </tr>\n",
       "  </tbody>\n",
       "</table>\n",
       "</div>"
      ],
      "text/plain": [
       "   EngineSize  CO2emissions\n",
       "0         2.0           196\n",
       "1         2.4           221\n",
       "2         1.5           136\n",
       "3         3.5           255\n",
       "4         3.5           244\n",
       "5         3.5           230\n",
       "6         3.5           232\n",
       "7         3.7           255\n",
       "8         3.7           267"
      ]
     },
     "execution_count": 3,
     "metadata": {},
     "output_type": "execute_result"
    }
   ],
   "source": [
    "df"
   ]
  },
  {
   "cell_type": "code",
   "execution_count": 4,
   "id": "fcaea4fa",
   "metadata": {},
   "outputs": [
    {
     "data": {
      "text/plain": [
       "<matplotlib.collections.PathCollection at 0x20b4ba69b50>"
      ]
     },
     "execution_count": 4,
     "metadata": {},
     "output_type": "execute_result"
    },
    {
     "data": {
      "image/png": "[encoded data removed]",
      "text/plain": [
       "<Figure size 640x480 with 1 Axes>"
      ]
     },
     "metadata": {},
     "output_type": "display_data"
    }
   ],
   "source": [
    "plt.scatter(x = df.EngineSize, y = df.CO2emissions)"
   ]
  },
  {
   "cell_type": "code",
   "execution_count": 5,
   "id": "1c4c9afd",
   "metadata": {},
   "outputs": [
    {
     "ename": "SyntaxError",
     "evalue": "invalid syntax (2248862987.py, line 2)",
     "output_type": "error",
     "traceback": [
      "\u001b[1;36m  File \u001b[1;32m\"C:\\Users\\jairiidriss\\AppData\\Local\\Temp\\ipykernel_4356\\2248862987.py\"\u001b[1;36m, line \u001b[1;32m2\u001b[0m\n\u001b[1;33m    x_bar = ?\u001b[0m\n\u001b[1;37m            ^\u001b[0m\n\u001b[1;31mSyntaxError\u001b[0m\u001b[1;31m:\u001b[0m invalid syntax\n"
     ]
    }
   ],
   "source": [
    "## Computing the mean value of X and y\n",
    "x_bar = ?\n",
    "y_bar = ?"
   ]
  },
  {
   "cell_type": "code",
   "execution_count": null,
   "id": "cebccc9b",
   "metadata": {},
   "outputs": [],
   "source": [
    "## Computing theta_0 and theta_0 (the intercept and the slope of X)\n",
    "theta_0 = ?\n",
    "theta_1 = ?"
   ]
  },
  {
   "cell_type": "code",
   "execution_count": null,
   "id": "cf42f1b8",
   "metadata": {},
   "outputs": [],
   "source": [
    "## Draw the Simple Linear Regression Line\n",
    "X =  df.EngineSize\n",
    "y = ?\n",
    "plt.scatter(x = df.EngineSize, y = df.CO2emissions)\n",
    "plt.plot(X, y, color  = \"red\")"
   ]
  },
  {
   "cell_type": "code",
   "execution_count": null,
   "id": "5ddc2670",
   "metadata": {},
   "outputs": [],
   "source": [
    "## Compare your results with scikit-learn\n",
    "LR_model = ?"
   ]
  },
  {
   "cell_type": "code",
   "execution_count": null,
   "id": "b5610944",
   "metadata": {},
   "outputs": [],
   "source": [
    "## Define the inputs X and the output y\n",
    "X = ?\n",
    "y = ?\n",
    "LR_model.fit(X, y)"
   ]
  },
  {
   "cell_type": "code",
   "execution_count": null,
   "id": "2dc3742c",
   "metadata": {},
   "outputs": [],
   "source": [
    "## Print the sklearn linear regression coeffecients\n",
    "LR_model.intercept_, LR_model.coef_"
   ]
  },
  {
   "cell_type": "markdown",
   "id": "334f2289",
   "metadata": {},
   "source": [
    "### Multiple Linear Regression"
   ]
  },
  {
   "cell_type": "code",
   "execution_count": null,
   "id": "57130c74",
   "metadata": {},
   "outputs": [],
   "source": [
    "x1 = [2, 2.4, 1.5, 3.5, 3.5, 3.5, 3.5, 3.7, 3.7]\n",
    "x2 = [4, 4, 4, 6, 6, 6, 6, 6, 6]\n",
    "x3 = [8.5, 9.6, 5.9, 11.1, 10.6, 10.0, 10.1, 11.1, 11.6]\n",
    "y = [196, 221, 136, 255, 244, 230, 232, 255, 267]\n",
    "d = {'EngineSize':x1, 'Cylinders':x2, 'FuelConsumptionComb':x3, 'CO2emissions':y}\n",
    "df = pd.DataFrame(data = d)"
   ]
  },
  {
   "cell_type": "code",
   "execution_count": null,
   "id": "79440b9f",
   "metadata": {},
   "outputs": [],
   "source": [
    "df"
   ]
  },
  {
   "cell_type": "code",
   "execution_count": null,
   "id": "7893cf2b",
   "metadata": {},
   "outputs": [],
   "source": [
    "## TO-DO: Compute the coefficients using Least Squares and Normal Equations"
   ]
  },
  {
   "cell_type": "markdown",
   "id": "64026778",
   "metadata": {},
   "source": [
    "## Estimating Parameters using Gradient Descent Optimization Algorithm"
   ]
  },
  {
   "cell_type": "code",
   "execution_count": null,
   "id": "19e8001e",
   "metadata": {},
   "outputs": [],
   "source": [
    "df = pd.read_csv(\"random_linear_data.csv\")"
   ]
  },
  {
   "cell_type": "code",
   "execution_count": null,
   "id": "e731472c",
   "metadata": {},
   "outputs": [],
   "source": [
    "df"
   ]
  },
  {
   "cell_type": "code",
   "execution_count": null,
   "id": "99441c4e",
   "metadata": {},
   "outputs": [],
   "source": [
    "plt.scatter(df.X, df.y)"
   ]
  },
  {
   "cell_type": "code",
   "execution_count": null,
   "id": "b2a350c3",
   "metadata": {},
   "outputs": [],
   "source": [
    "def gradient_descent(X, y, learning_rate, nbr_iterations):\n",
    "    theta_0 = 0\n",
    "    theta_1 = 0\n",
    "    m = len(X)\n",
    "    for i in range(nbr_iterations):\n",
    "        y_predictions = theta_0 + theta_1 * X\n",
    "        d_theta_0 = ? #Derivative of MSE Function with respect to theta_0\n",
    "        d_theta_1 = ? #Derivative of MSE Function with respect to theta_1\n",
    "        \n",
    "        #Plotting and Showing the polts\n",
    "        plt.scatter(X, y)\n",
    "        plt.plot([min(X),max(X)],[min(y_predictions),max(y_predictions)], color='red')\n",
    "        plt.show()\n",
    "        \n",
    "        theta_0 -= ?\n",
    "        theta_1 -= ?\n",
    "        \n",
    "        \n",
    "    return theta_0, theta_1"
   ]
  },
  {
   "cell_type": "code",
   "execution_count": null,
   "id": "248635dd",
   "metadata": {},
   "outputs": [],
   "source": [
    "#t0,t1 = gradient_descent(df.X, df.y, 0.0001, 1000)"
   ]
  },
  {
   "cell_type": "code",
   "execution_count": null,
   "id": "05b20902",
   "metadata": {},
   "outputs": [],
   "source": [
    "print(\"b = \",t0 , \"\\nm = \",t1)"
   ]
  },
  {
   "cell_type": "code",
   "execution_count": null,
   "id": "8cca1807",
   "metadata": {},
   "outputs": [],
   "source": []
  }
 ],
 "metadata": {
  "kernelspec": {
   "display_name": "Python 3 (ipykernel)",
   "language": "python",
   "name": "python3"
  },
  "language_info": {
   "codemirror_mode": {
    "name": "ipython",
    "version": 3
   },
   "file_extension": ".py",
   "mimetype": "text/x-python",
   "name": "python",
   "nbconvert_exporter": "python",
   "pygments_lexer": "ipython3",
   "version": "3.9.13"
  }
 },
 "nbformat": 4,
 "nbformat_minor": 5
}
